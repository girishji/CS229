{
 "cells": [
  {
   "cell_type": "markdown",
   "metadata": {},
   "source": [
    "**Problem 2**"
   ]
  },
  {
   "cell_type": "code",
   "execution_count": 1,
   "metadata": {},
   "outputs": [],
   "source": [
    "%matplotlib inline\n",
    "import numpy as np\n",
    "import matplotlib.pyplot as plt\n",
    "import csv\n",
    "import math"
   ]
  },
  {
   "cell_type": "code",
   "execution_count": 2,
   "metadata": {},
   "outputs": [
    {
     "name": "stdout",
     "output_type": "stream",
     "text": [
      "[[ 1.         -0.34792627  0.8625731 ]\n",
      " [ 1.         -0.14516129  0.62865497]\n",
      " [ 1.         -0.03456221  0.28947368]\n",
      " [ 1.         -0.14976959  0.07309942]\n",
      " [ 1.         -0.35253456 -0.16081871]\n",
      " [ 1.         -0.43087558 -0.51754386]\n",
      " [ 1.         -0.19124424 -0.80994152]\n",
      " [ 1.          0.16359447 -0.92105263]\n",
      " [ 1.         -0.0437788  -0.66374269]\n",
      " [ 1.         -0.17281106 -0.4122807 ]] (69, 3)\n"
     ]
    }
   ],
   "source": [
    "with open('q2/data/x.dat') as csvfile:\n",
    "    xreader = csv.reader(csvfile, delimiter = ' ')\n",
    "    Xt = []\n",
    "    for row in xreader:\n",
    "        Xt.append([1] + [float(i) for i in row if i])\n",
    "    \n",
    "X = np.array(Xt)\n",
    "print(X[:10], X.shape)"
   ]
  },
  {
   "cell_type": "code",
   "execution_count": 3,
   "metadata": {},
   "outputs": [],
   "source": [
    "with open('q2/data/y.dat') as csvfile:\n",
    "    yreader = csv.reader(csvfile, delimiter = ' ')\n",
    "    Yt = []\n",
    "    for row in yreader:\n",
    "        Yt.append([int(float(i)) for i in row if i])\n",
    "Y = np.array(Yt)"
   ]
  },
  {
   "cell_type": "code",
   "execution_count": 4,
   "metadata": {},
   "outputs": [
    {
     "data": {
      "image/png": "[encoded data removed]",
      "text/plain": [
       "<Figure size 432x288 with 1 Axes>"
      ]
     },
     "metadata": {
      "needs_background": "light"
     },
     "output_type": "display_data"
    }
   ],
   "source": [
    "# Plot\n",
    "x1_0 = [X[i, 1] for i in range(Y.size) if Y[i, 0] == 0]\n",
    "x2_0 = [X[i, 2] for i in range(Y.size) if Y[i, 0] == 0]\n",
    "plt.plot(x1_0, x2_0, 'b+')\n",
    "x1_1 = [X[i, 1] for i in range(Y.size) if Y[i, 0] == 1]\n",
    "x2_1 = [X[i, 2] for i in range(Y.size) if Y[i, 0] == 1]\n",
    "plt.plot(x1_1, x2_1, 'r+');"
   ]
  },
  {
   "cell_type": "code",
   "execution_count": 19,
   "metadata": {},
   "outputs": [],
   "source": [
    "# Newton's method\n",
    "\n",
    "# Weights\n",
    "def weights(x, X, tau):\n",
    "    return([math.exp(-sum((X[i] - x)**2) / (2 * tau**2)) for i in range(Y.size)])\n",
    "\n",
    "# Hypothesis function\n",
    "def hyp(theta, x):\n",
    "    try:\n",
    "        h_t = 1 / (1 + math.exp(-np.dot(x, theta)))\n",
    "    except OverflowError:\n",
    "        h_t = 0\n",
    "    return h_t\n",
    "\n",
    "# Correction for each step\n",
    "def step(X, Y, x, tau, theta):\n",
    "    wt = weights(x, X, tau)\n",
    "    h = [hyp(theta, X[i]) for i in range(Y.size)]\n",
    "    z = np.dot(np.diag(wt), Y[:, 0] - h)\n",
    "    D = np.diag([-wt[i] * h[i] * (1 - h[i]) for i in range(Y.size)])\n",
    "    lambda_val = 0.0001\n",
    "\n",
    "    grad_ll = np.dot(np.transpose(X), z) - [lambda_val * i for i in theta]\n",
    "    H = np.dot(np.dot(np.transpose(X), D), X) - (np.identity(X.shape[1]) * lambda_val)\n",
    "    H_inv = np.linalg.inv(H)\n",
    "    return(np.dot(H_inv, grad_ll))"
   ]
  },
  {
   "cell_type": "code",
   "execution_count": 20,
   "metadata": {},
   "outputs": [],
   "source": [
    "def estimate_theta(X, Y, x, tau):\n",
    "    theta = [1, 1, 1] # initialize    \n",
    "    while True:\n",
    "        newTheta = theta - step(X, Y, x, tau, theta)\n",
    "        epsilon = np.ones(X.shape[1]) * 0.000001\n",
    "        if all(np.absolute(newTheta - np.absolute(theta) < epsilon)):\n",
    "            return(newTheta)\n",
    "        theta = newTheta\n",
    "        #print(theta)"
   ]
  },
  {
   "cell_type": "code",
   "execution_count": 21,
   "metadata": {},
   "outputs": [],
   "source": [
    "def lwlr(X, Y, x, tau):\n",
    "    theta = estimate_theta(X, Y, x, tau)\n",
    "    try:\n",
    "        h_t = 1 / (1 + math.exp(-np.dot(x, theta)))\n",
    "    except OverflowError:\n",
    "        h_t = 0\n",
    "    return(1 if h_t > 0.5 else 0)"
   ]
  },
  {
   "cell_type": "code",
   "execution_count": 29,
   "metadata": {},
   "outputs": [],
   "source": [
    "# Plot decision boundary\n",
    "def lwlr_plot(X, Y, tau):\n",
    "    #np.arange(-1, 1, 0.1)\n",
    "    ticks = np.linspace(-1, 1, 50)\n",
    "    for i in ticks:\n",
    "        x1_0 = []\n",
    "        x2_0 = []\n",
    "        x1_1 = []\n",
    "        x2_1 = []\n",
    "        for j in ticks:\n",
    "            x = [1, i, j]\n",
    "            pred = lwlr(X, Y, x, tau)\n",
    "            if pred == 0:\n",
    "                x1_0 = x1_0 + [i]\n",
    "                x2_0 = x2_0 + [j]\n",
    "            else:\n",
    "                x1_1 = x1_1 + [i]\n",
    "                x2_1 = x2_1 + [j]\n",
    "        plt.plot(x1_0, x2_0, 'b+');\n",
    "        plt.plot(x1_1, x2_1, 'r+');\n",
    "        "
   ]
  },
  {
   "cell_type": "code",
   "execution_count": 30,
   "metadata": {},
   "outputs": [
    {
     "data": {
      "image/png": "[encoded data removed]",
      "text/plain": [
       "<Figure size 432x288 with 1 Axes>"
      ]
     },
     "metadata": {
      "needs_background": "light"
     },
     "output_type": "display_data"
    }
   ],
   "source": [
    "tau = 0.1\n",
    "lwlr_plot(X, Y, tau)"
   ]
  },
  {
   "cell_type": "code",
   "execution_count": 28,
   "metadata": {},
   "outputs": [
    {
     "data": {
      "image/png": "[encoded data removed]",
      "text/plain": [
       "<Figure size 432x288 with 1 Axes>"
      ]
     },
     "metadata": {
      "needs_background": "light"
     },
     "output_type": "display_data"
    }
   ],
   "source": [
    "tau = 0.01\n",
    "lwlr_plot(X, Y, tau)"
   ]
  },
  {
   "cell_type": "code",
   "execution_count": 27,
   "metadata": {},
   "outputs": [
    {
     "data": {
      "image/png": "[encoded data removed]",
      "text/plain": [
       "<Figure size 432x288 with 1 Axes>"
      ]
     },
     "metadata": {
      "needs_background": "light"
     },
     "output_type": "display_data"
    }
   ],
   "source": [
    "tau = 0.5\n",
    "lwlr_plot(X, Y, tau)"
   ]
  },
  {
   "cell_type": "code",
   "execution_count": null,
   "metadata": {},
   "outputs": [],
   "source": []
  }
 ],
 "metadata": {
  "kernelspec": {
   "display_name": "Python 3",
   "language": "python",
   "name": "python3"
  },
  "language_info": {
   "codemirror_mode": {
    "name": "ipython",
    "version": 3
   },
   "file_extension": ".py",
   "mimetype": "text/x-python",
   "name": "python",
   "nbconvert_exporter": "python",
   "pygments_lexer": "ipython3",
   "version": "3.8.3"
  }
 },
 "nbformat": 4,
 "nbformat_minor": 4
}
